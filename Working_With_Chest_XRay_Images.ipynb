{
  "nbformat": 4,
  "nbformat_minor": 0,
  "metadata": {
    "anaconda-cloud": {},
    "kernelspec": {
      "display_name": "Python 3",
      "language": "python",
      "name": "python3"
    },
    "language_info": {
      "codemirror_mode": {
        "name": "ipython",
        "version": 3
      },
      "file_extension": ".py",
      "mimetype": "text/x-python",
      "name": "python",
      "nbconvert_exporter": "python",
      "pygments_lexer": "ipython3",
      "version": "3.5.2"
    },
    "colab": {
      "name": "Working_With_Chest_XRay_Images.ipynb",
      "provenance": []
    }
  },
  "cells": [
    {
      "cell_type": "markdown",
      "metadata": {
        "id": "vWLWZVgd86G4",
        "colab_type": "text"
      },
      "source": [
        "# Analysis of Chest X-Ray images"
      ]
    },
    {
      "cell_type": "markdown",
      "metadata": {
        "id": "ayUo0A1R86G7",
        "colab_type": "text"
      },
      "source": [
        "Neural networks have revolutionised image processing in several different domains. Among these is the field of medical imaging. In the following notebook, we will get some hands-on experience in working with Chest X-Ray (CXR) images.\n",
        "\n",
        "The objective of this exercise is to identify images where an \"effusion\" is present. This is a classification problem, where we will be dealing with two classes - 'effusion' and 'nofinding'. Here, the latter represents a \"normal\" X-ray image.\n",
        "\n",
        "This same methodology can be used to spot various other illnesses that can be detected via a chest x-ray. For the scope of this demonstration, we will specifically deal with \"effusion\"."
      ]
    },
    {
      "cell_type": "markdown",
      "metadata": {
        "id": "-Rjyz1R286G9",
        "colab_type": "text"
      },
      "source": [
        "## 1. Data Pre-processing"
      ]
    },
    {
      "cell_type": "markdown",
      "metadata": {
        "id": "b12unqmf86G-",
        "colab_type": "text"
      },
      "source": [
        "Our data is in the form of grayscale (black and white) images of chest x-rays. To perform our classification task effectively, we need to perform some pre-processing of the data.\n",
        "\n",
        "First, we load all the relevant libraries."
      ]
    },
    {
      "cell_type": "code",
      "metadata": {
        "id": "N8XWz-nw86HA",
        "colab_type": "code",
        "colab": {}
      },
      "source": [
        "import keras\n",
        "from skimage import io\n",
        "import os\n",
        "import glob\n",
        "import numpy as np\n",
        "import matplotlib.pyplot as plt\n",
        "%matplotlib inline\n",
        "\n",
        "import warnings\n",
        "warnings.simplefilter('ignore')"
      ],
      "execution_count": null,
      "outputs": []
    },
    {
      "cell_type": "code",
      "metadata": {
        "id": "UdbTgdGbvgbG",
        "colab_type": "code",
        "colab": {
          "base_uri": "https://localhost:8080/",
          "height": 34
        },
        "outputId": "4a76ab8d-a6eb-4736-e0da-3cba77649a9b"
      },
      "source": [
        "import tensorflow\n",
        "print(tensorflow.__version__)"
      ],
      "execution_count": null,
      "outputs": [
        {
          "output_type": "stream",
          "text": [
            "2.3.0\n"
          ],
          "name": "stdout"
        }
      ]
    },
    {
      "cell_type": "code",
      "metadata": {
        "id": "gvTBrk0FvlrZ",
        "colab_type": "code",
        "colab": {
          "base_uri": "https://localhost:8080/",
          "height": 34
        },
        "outputId": "1f15c107-d7d5-47c6-bad6-c0517f2f28eb"
      },
      "source": [
        "print(keras.__version__)"
      ],
      "execution_count": null,
      "outputs": [
        {
          "output_type": "stream",
          "text": [
            "2.4.3\n"
          ],
          "name": "stdout"
        }
      ]
    },
    {
      "cell_type": "markdown",
      "metadata": {
        "id": "rGNqO-hc86HI",
        "colab_type": "text"
      },
      "source": [
        "Point a variable to the path where the data resides. Note that to use the code below you will need to move the folders effusion/ and nofinding/ into one common folder. You can do something like this:\n",
        "\n",
        "```\n",
        "mkdir CXR_Data\n",
        "move effusion CXR_Data\n",
        "move nofinding CXR_Data\n",
        "```"
      ]
    },
    {
      "cell_type": "code",
      "metadata": {
        "id": "AZcqQkMx-RpC",
        "colab_type": "code",
        "colab": {
          "base_uri": "https://localhost:8080/",
          "height": 122
        },
        "outputId": "ca0db87c-7852-4c9e-bcb6-6693c67b05c3"
      },
      "source": [
        "# To fetch kaggle datasets in to google colab\n",
        "# step 1 get your kaggle api token and upload kaggle.json\n",
        "# step 2 mount the drive to colab notebook\n",
        "from google.colab import drive\n",
        "drive.mount('/content/gdrive')"
      ],
      "execution_count": null,
      "outputs": [
        {
          "output_type": "stream",
          "text": [
            "Go to this URL in a browser: https://accounts.google.com/o/oauth2/auth?client_id=947318989803-6bn6qk8qdgf4n4g3pfee6491hc0brc4i.apps.googleusercontent.com&redirect_uri=urn%3aietf%3awg%3aoauth%3a2.0%3aoob&scope=email%20https%3a%2f%2fwww.googleapis.com%2fauth%2fdocs.test%20https%3a%2f%2fwww.googleapis.com%2fauth%2fdrive%20https%3a%2f%2fwww.googleapis.com%2fauth%2fdrive.photos.readonly%20https%3a%2f%2fwww.googleapis.com%2fauth%2fpeopleapi.readonly&response_type=code\n",
            "\n",
            "Enter your authorization code:\n",
            "··········\n",
            "Mounted at /content/gdrive\n"
          ],
          "name": "stdout"
        }
      ]
    },
    {
      "cell_type": "code",
      "metadata": {
        "id": "TErI2S8j-gDL",
        "colab_type": "code",
        "colab": {}
      },
      "source": [
        "import os\n",
        "os.environ['KAGGLE_CONFIG_DIR'] = \"/content/gdrive/My Drive/Kaggle\""
      ],
      "execution_count": null,
      "outputs": []
    },
    {
      "cell_type": "code",
      "metadata": {
        "id": "bEgxRkjk-0Pt",
        "colab_type": "code",
        "colab": {
          "base_uri": "https://localhost:8080/",
          "height": 34
        },
        "outputId": "691fb430-3f51-4645-e55d-14b0b5025486"
      },
      "source": [
        "#step 4 changing the present working directory\n",
        "%cd /content/gdrive/My Drive/Kaggle"
      ],
      "execution_count": null,
      "outputs": [
        {
          "output_type": "stream",
          "text": [
            "/content/gdrive/My Drive/Kaggle\n"
          ],
          "name": "stdout"
        }
      ]
    },
    {
      "cell_type": "code",
      "metadata": {
        "id": "qHEWM2w2-8RJ",
        "colab_type": "code",
        "colab": {}
      },
      "source": [
        "#step 5 copy the api command of the required dataset. Here i have taken flower recognition dataset api command\n",
        "#!kaggle datasets download -d murali0861/cxrdata"
      ],
      "execution_count": null,
      "outputs": []
    },
    {
      "cell_type": "code",
      "metadata": {
        "id": "6IttE6kq_O42",
        "colab_type": "code",
        "colab": {}
      },
      "source": [
        "#step 6 unzip the data and remove the zip file\n",
        "#unzipping the zip files and deleting the zip files\n",
        "#!unzip \\*.zip  && rm *.zip"
      ],
      "execution_count": null,
      "outputs": []
    },
    {
      "cell_type": "code",
      "metadata": {
        "id": "xSEVz8OT86HJ",
        "colab_type": "code",
        "colab": {}
      },
      "source": [
        "DATASET_PATH = './CXR_Data'\n",
        "\n",
        "# There are two classes of images that we will deal with\n",
        "disease_cls = ['effusion', 'nofinding']"
      ],
      "execution_count": null,
      "outputs": []
    },
    {
      "cell_type": "markdown",
      "metadata": {
        "id": "FEEo8K0486HO",
        "colab_type": "text"
      },
      "source": [
        "Next, we read the \"effusion\" and \"nofinding\" images."
      ]
    },
    {
      "cell_type": "code",
      "metadata": {
        "id": "cPCIIi2H86HO",
        "colab_type": "code",
        "colab": {
          "base_uri": "https://localhost:8080/",
          "height": 286
        },
        "outputId": "ee0730d9-e963-4a32-9381-fc74b66864a4"
      },
      "source": [
        "effusion_path = os.path.join(DATASET_PATH, disease_cls[0], '*')\n",
        "effusion = glob.glob(effusion_path)\n",
        "effusion = io.imread(effusion[0])\n",
        "\n",
        "normal_path = os.path.join(DATASET_PATH, disease_cls[1], '*')\n",
        "normal = glob.glob(normal_path)\n",
        "normal = io.imread(normal[0])\n",
        "\n",
        "f, axes = plt.subplots(1, 2, sharey=True)\n",
        "f.set_figwidth(10)\n",
        "    \n",
        "axes[0].imshow(effusion, cmap='gray')\n",
        "axes[1].imshow(normal, cmap='gray')"
      ],
      "execution_count": null,
      "outputs": [
        {
          "output_type": "execute_result",
          "data": {
            "text/plain": [
              "<matplotlib.image.AxesImage at 0x7fe3396fc828>"
            ]
          },
          "metadata": {
            "tags": []
          },
          "execution_count": 8
        },
        {
          "output_type": "display_data",
          "data": {
            "image/png": "[encoded data removed]",
            "text/plain": [
              "<Figure size 720x288 with 2 Axes>"
            ]
          },
          "metadata": {
            "tags": [],
            "needs_background": "light"
          }
        }
      ]
    },
    {
      "cell_type": "code",
      "metadata": {
        "id": "THYEL-Nq86HT",
        "colab_type": "code",
        "colab": {
          "base_uri": "https://localhost:8080/",
          "height": 34
        },
        "outputId": "bec2b7e3-0c9b-405c-f44a-5d7679578fc8"
      },
      "source": [
        "effusion.shape"
      ],
      "execution_count": null,
      "outputs": [
        {
          "output_type": "execute_result",
          "data": {
            "text/plain": [
              "(1024, 1024)"
            ]
          },
          "metadata": {
            "tags": []
          },
          "execution_count": 9
        }
      ]
    },
    {
      "cell_type": "code",
      "metadata": {
        "id": "rXD3nCaG86HX",
        "colab_type": "code",
        "colab": {
          "base_uri": "https://localhost:8080/",
          "height": 34
        },
        "outputId": "406d94d5-c722-4288-dd70-677a247c0d18"
      },
      "source": [
        "normal.shape"
      ],
      "execution_count": null,
      "outputs": [
        {
          "output_type": "execute_result",
          "data": {
            "text/plain": [
              "(1024, 1024)"
            ]
          },
          "metadata": {
            "tags": []
          },
          "execution_count": 10
        }
      ]
    },
    {
      "cell_type": "markdown",
      "metadata": {
        "id": "Dz4tbyMh86Hb",
        "colab_type": "text"
      },
      "source": [
        "### Data Augmentation ###\n",
        "\n",
        "Now that we have read the images, the next step is data augmentation. We use the concept of a \"data generator\" that you learnt in the last section."
      ]
    },
    {
      "cell_type": "code",
      "metadata": {
        "id": "y0XWp4k_86Hc",
        "colab_type": "code",
        "colab": {}
      },
      "source": [
        "from skimage.transform import rescale\n",
        "from keras.preprocessing.image import ImageDataGenerator\n",
        "\n",
        "datagen = ImageDataGenerator(\n",
        "    featurewise_center=True,\n",
        "    featurewise_std_normalization=True,\n",
        "    rotation_range=10,\n",
        "    width_shift_range=0,\n",
        "    height_shift_range=0,\n",
        "    vertical_flip=False,)\n",
        "\n",
        "def preprocess_img(img, mode):\n",
        "    img = (img - img.min())/(img.max() - img.min())\n",
        "    img = rescale(img, 0.25, multichannel=True, mode='constant')\n",
        "    \n",
        "    if mode == 'train':\n",
        "        if np.random.randn() > 0:\n",
        "            img = datagen.random_transform(img)\n",
        "    return img"
      ],
      "execution_count": null,
      "outputs": []
    },
    {
      "cell_type": "markdown",
      "metadata": {
        "id": "Z2ROKS0186Hn",
        "colab_type": "text"
      },
      "source": [
        "## 2. Model building"
      ]
    },
    {
      "cell_type": "markdown",
      "metadata": {
        "id": "tHjN2X7A86Ho",
        "colab_type": "text"
      },
      "source": [
        "We will be using a Resnet in this (you learnt about Resnets previously). \n",
        "\n",
        "For this to work, the script that defines the resnet model (resnet.py) should reside in the same folder as this notebook"
      ]
    },
    {
      "cell_type": "code",
      "metadata": {
        "id": "Q1pX4ANjNs4T",
        "colab_type": "code",
        "colab": {}
      },
      "source": [
        "import resnet"
      ],
      "execution_count": null,
      "outputs": []
    },
    {
      "cell_type": "code",
      "metadata": {
        "id": "8xm4x4jk86Ho",
        "colab_type": "code",
        "colab": {}
      },
      "source": [
        "img_channels = 1\n",
        "img_rows = 256\n",
        "img_cols = 256\n",
        "\n",
        "nb_classes = 2"
      ],
      "execution_count": null,
      "outputs": []
    },
    {
      "cell_type": "code",
      "metadata": {
        "id": "EFeTg62586Hs",
        "colab_type": "code",
        "colab": {}
      },
      "source": [
        "import numpy as np\n",
        "import keras\n",
        "\n",
        "class AugmentedDataGenerator(keras.utils.Sequence):\n",
        "    'Generates data for Keras'\n",
        "    def __init__(self, mode='train', ablation=None, disease_cls = ['nofinding', 'effusion'], \n",
        "                 batch_size=32, dim=(256, 256), n_channels=1, shuffle=True):\n",
        "        'Initialization'\n",
        "        self.dim = dim\n",
        "        self.batch_size = batch_size\n",
        "        self.labels = {}\n",
        "        self.list_IDs = []\n",
        "        self.mode = mode\n",
        "        \n",
        "        for i, cls in enumerate(disease_cls):\n",
        "            paths = glob.glob(os.path.join(DATASET_PATH, cls, '*'))\n",
        "            brk_point = int(len(paths)*0.8)\n",
        "            if self.mode == 'train':\n",
        "                paths = paths[:brk_point]\n",
        "            else:\n",
        "                paths = paths[brk_point:]\n",
        "            if ablation is not None:\n",
        "                paths = paths[:int(len(paths)*ablation/100)]\n",
        "            self.list_IDs += paths\n",
        "            self.labels.update({p:i for p in paths})\n",
        "        \n",
        "            \n",
        "        self.n_channels = n_channels\n",
        "        self.n_classes = len(disease_cls)\n",
        "        self.shuffle = shuffle\n",
        "        self.on_epoch_end()\n",
        "\n",
        "    def __len__(self):\n",
        "        'Denotes the number of batches per epoch'\n",
        "        return int(np.floor(len(self.list_IDs) / self.batch_size))\n",
        "\n",
        "    def __getitem__(self, index):\n",
        "        'Generate one batch of data'\n",
        "\n",
        "        indexes = self.indexes[index*self.batch_size:(index+1)*self.batch_size]\n",
        "        list_IDs_temp = [self.list_IDs[k] for k in indexes]\n",
        "\n",
        "        X, y = self.__data_generation(list_IDs_temp)\n",
        "\n",
        "        return X, y\n",
        "\n",
        "    def on_epoch_end(self):\n",
        "        'Updates indexes after each epoch'\n",
        "        self.indexes = np.arange(len(self.list_IDs))\n",
        "        if self.shuffle == True:\n",
        "            np.random.shuffle(self.indexes)\n",
        "\n",
        "    def __data_generation(self, list_IDs_temp):\n",
        "        'Generates data containing batch_size samples' # X : (n_samples, *dim, n_channels)\n",
        "        # Initialization\n",
        "        X = np.empty((self.batch_size, *self.dim, self.n_channels))\n",
        "        y = np.empty((self.batch_size), dtype=int)\n",
        "        \n",
        "        delete_rows = []\n",
        "\n",
        "        # Generate data\n",
        "        for i, ID in enumerate(list_IDs_temp):\n",
        "            img = io.imread(ID)\n",
        "            img = img[:, :, np.newaxis]\n",
        "            if img.shape == (1024, 1024,1):\n",
        "                img = preprocess_img(img, self.mode)\n",
        "                X[i,] = img\n",
        "                y[i] = self.labels[ID]\n",
        "            else:\n",
        "                delete_rows.append(i)\n",
        "                continue\n",
        "                \n",
        "        X = np.delete(X, delete_rows, axis=0)\n",
        "        y = np.delete(y, delete_rows, axis=0)\n",
        "        \n",
        "        return X, keras.utils.to_categorical(y, num_classes=self.n_classes)"
      ],
      "execution_count": null,
      "outputs": []
    },
    {
      "cell_type": "markdown",
      "metadata": {
        "id": "jGASJZRq86Hv",
        "colab_type": "text"
      },
      "source": [
        "## 3. Ablation Run"
      ]
    },
    {
      "cell_type": "markdown",
      "metadata": {
        "id": "KHsdmSCi86Hw",
        "colab_type": "text"
      },
      "source": [
        "In the previous notebook, you learnt about Ablation. Briefly, an ablation run is when you systematically modify certain parts of the input, in order to observe the equivalent change in the input.\n",
        "\n",
        "For the following section, we'll be using the Data Generator concept that you previously worked on."
      ]
    },
    {
      "cell_type": "code",
      "metadata": {
        "id": "dbEcWfXq86Hx",
        "colab_type": "code",
        "colab": {}
      },
      "source": [
        "model = resnet.ResnetBuilder.build_resnet_18((img_channels, img_rows, img_cols), nb_classes)"
      ],
      "execution_count": null,
      "outputs": []
    },
    {
      "cell_type": "code",
      "metadata": {
        "id": "2JQwZXEUhAHO",
        "colab_type": "code",
        "colab": {
          "base_uri": "https://localhost:8080/",
          "height": 122
        },
        "outputId": "5e42095f-ac24-4a61-a6da-db2a5937c3fa"
      },
      "source": [
        "model.compile(loss='categorical_crossentropy',optimizer='SGD',\n",
        "              metrics=['accuracy'])\n",
        "training_generator = AugmentedDataGenerator('train', ablation=5)\n",
        "validation_generator = AugmentedDataGenerator('val', ablation=5)\n",
        "\n",
        "model.fit_generator(generator=training_generator,\n",
        "                    validation_data=validation_generator,\n",
        "                    epochs=1)"
      ],
      "execution_count": null,
      "outputs": [
        {
          "output_type": "stream",
          "text": [
            "WARNING:tensorflow:From <ipython-input-17-f9bc21e8ae32>:8: Model.fit_generator (from tensorflow.python.keras.engine.training) is deprecated and will be removed in a future version.\n",
            "Instructions for updating:\n",
            "Please use Model.fit, which supports generators.\n",
            "1/1 [==============================] - 0s 2ms/step - loss: 2.5592 - accuracy: 0.1250\n"
          ],
          "name": "stdout"
        },
        {
          "output_type": "execute_result",
          "data": {
            "text/plain": [
              "<tensorflow.python.keras.callbacks.History at 0x7fe2f39c4b70>"
            ]
          },
          "metadata": {
            "tags": []
          },
          "execution_count": 17
        }
      ]
    },
    {
      "cell_type": "code",
      "metadata": {
        "id": "xUr5TFHV86H1",
        "colab_type": "code",
        "colab": {
          "base_uri": "https://localhost:8080/",
          "height": 204
        },
        "outputId": "516a4378-13d8-4c3b-84a1-0f5c9d46d0e6"
      },
      "source": [
        "model = resnet.ResnetBuilder.build_resnet_18((img_channels, img_rows, img_cols), nb_classes)\n",
        "model.compile(loss='categorical_crossentropy',optimizer='SGD',\n",
        "              metrics=['accuracy'])\n",
        "\n",
        "training_generator = AugmentedDataGenerator('train', ablation=5)\n",
        "validation_generator = AugmentedDataGenerator('val', ablation=5)\n",
        "\n",
        "model.fit_generator(generator=training_generator,\n",
        "                    validation_data=None,\n",
        "                    epochs=5)"
      ],
      "execution_count": null,
      "outputs": [
        {
          "output_type": "stream",
          "text": [
            "Epoch 1/5\n",
            "1/1 [==============================] - 0s 2ms/step - loss: 1.5315 - accuracy: 0.8438\n",
            "Epoch 2/5\n",
            "1/1 [==============================] - 0s 1ms/step - loss: 1.4027 - accuracy: 0.9062\n",
            "Epoch 3/5\n",
            "1/1 [==============================] - 0s 1ms/step - loss: 1.3023 - accuracy: 0.9375\n",
            "Epoch 4/5\n",
            "1/1 [==============================] - 0s 1ms/step - loss: 1.2157 - accuracy: 0.9677\n",
            "Epoch 5/5\n",
            "1/1 [==============================] - 0s 2ms/step - loss: 1.2899 - accuracy: 0.9032\n"
          ],
          "name": "stdout"
        },
        {
          "output_type": "execute_result",
          "data": {
            "text/plain": [
              "<tensorflow.python.keras.callbacks.History at 0x7fe2eebc6908>"
            ]
          },
          "metadata": {
            "tags": []
          },
          "execution_count": 18
        }
      ]
    },
    {
      "cell_type": "code",
      "metadata": {
        "id": "mcuW2klL86H5",
        "colab_type": "code",
        "colab": {}
      },
      "source": [
        "from sklearn.metrics import roc_auc_score\n",
        "from keras import optimizers\n",
        "from keras.callbacks import *\n",
        "\n",
        "class roc_callback(Callback):\n",
        "    \n",
        "    def on_train_begin(self, logs={}):\n",
        "        logs['val_auc'] = 0\n",
        "\n",
        "    def on_epoch_end(self, epoch, logs={}):\n",
        "        y_p = []\n",
        "        y_v = []\n",
        "        for i in range(len(validation_generator)):\n",
        "            x_val, y_val = validation_generator[i]\n",
        "            y_pred = self.model.predict(x_val)\n",
        "            y_p.append(y_pred)\n",
        "            y_v.append(y_val)\n",
        "        y_p = np.concatenate(y_p)\n",
        "        y_v = np.concatenate(y_v)\n",
        "        roc_auc = roc_auc_score(y_v, y_p)\n",
        "        print ('\\nVal AUC for epoch{}: {}'.format(epoch, roc_auc))\n",
        "        logs['val_auc'] = roc_auc"
      ],
      "execution_count": null,
      "outputs": []
    },
    {
      "cell_type": "code",
      "metadata": {
        "id": "r1EzCMp_86H9",
        "colab_type": "code",
        "colab": {
          "base_uri": "https://localhost:8080/",
          "height": 374
        },
        "outputId": "00d727f4-1a62-44a4-f176-e88f6f6a18dc"
      },
      "source": [
        "model = resnet.ResnetBuilder.build_resnet_18((img_channels, img_rows, img_cols), nb_classes)\n",
        "model.compile(loss='categorical_crossentropy',optimizer='SGD',\n",
        "              metrics=['accuracy'])\n",
        "\n",
        "training_generator = AugmentedDataGenerator('train', ablation=20)\n",
        "validation_generator = AugmentedDataGenerator('val', ablation=20)\n",
        "\n",
        "auc_logger = roc_callback()\n",
        "\n",
        "model.fit_generator(generator=training_generator,\n",
        "                    validation_data=validation_generator,\n",
        "                    epochs=5, callbacks=[auc_logger])"
      ],
      "execution_count": null,
      "outputs": [
        {
          "output_type": "stream",
          "text": [
            "Epoch 1/5\n",
            "5/5 [==============================] - ETA: 0s - loss: 1.6160 - accuracy: 0.6169 \n",
            "Val AUC for epoch0: 0.1781609195402299\n",
            "5/5 [==============================] - 79s 16s/step - loss: 1.6160 - accuracy: 0.6169 - val_loss: 2.5648 - val_accuracy: 0.8750\n",
            "Epoch 2/5\n",
            "5/5 [==============================] - ETA: 0s - loss: 1.3109 - accuracy: 0.8961\n",
            "Val AUC for epoch1: 0.1954022988505747\n",
            "5/5 [==============================] - 60s 12s/step - loss: 1.3109 - accuracy: 0.8961 - val_loss: 2.1499 - val_accuracy: 0.9062\n",
            "Epoch 3/5\n",
            "5/5 [==============================] - ETA: 0s - loss: 1.2958 - accuracy: 0.8961\n",
            "Val AUC for epoch2: 0.25806451612903225\n",
            "5/5 [==============================] - 59s 12s/step - loss: 1.2958 - accuracy: 0.8961 - val_loss: 1.8814 - val_accuracy: 0.9062\n",
            "Epoch 4/5\n",
            "5/5 [==============================] - ETA: 0s - loss: 1.2808 - accuracy: 0.9026\n",
            "Val AUC for epoch3: 0.08333333333333331\n",
            "5/5 [==============================] - 59s 12s/step - loss: 1.2808 - accuracy: 0.9026 - val_loss: 1.1951 - val_accuracy: 0.9688\n",
            "Epoch 5/5\n",
            "5/5 [==============================] - ETA: 0s - loss: 1.3022 - accuracy: 0.8896\n",
            "Val AUC for epoch4: 0.3392857142857143\n",
            "5/5 [==============================] - 58s 12s/step - loss: 1.3022 - accuracy: 0.8896 - val_loss: 1.3346 - val_accuracy: 0.9375\n"
          ],
          "name": "stdout"
        },
        {
          "output_type": "execute_result",
          "data": {
            "text/plain": [
              "<tensorflow.python.keras.callbacks.History at 0x7fe2ec4ef860>"
            ]
          },
          "metadata": {
            "tags": []
          },
          "execution_count": 20
        }
      ]
    },
    {
      "cell_type": "code",
      "metadata": {
        "id": "sM9Qdt0e86IB",
        "colab_type": "code",
        "colab": {}
      },
      "source": [
        "from functools import partial\n",
        "import keras.backend as K\n",
        "from itertools import product\n",
        "\n",
        "def w_categorical_crossentropy(y_true, y_pred, weights):\n",
        "    nb_cl = len(weights)\n",
        "    final_mask = K.zeros_like(y_pred[:, 0])\n",
        "    y_pred_max = K.max(y_pred, axis=1)\n",
        "    y_pred_max = K.reshape(y_pred_max, (K.shape(y_pred)[0], 1))\n",
        "    y_pred_max_mat = K.cast(K.equal(y_pred, y_pred_max), K.floatx())\n",
        "    for c_p, c_t in product(range(nb_cl), range(nb_cl)):\n",
        "        final_mask += (weights[c_t, c_p] * y_pred_max_mat[:, c_p] * y_true[:, c_t])\n",
        "    cross_ent = K.categorical_crossentropy(y_true, y_pred, from_logits=False)\n",
        "    return cross_ent * final_mask\n",
        "\n",
        "bin_weights = np.ones((2,2))\n",
        "bin_weights[0, 1] = 5\n",
        "bin_weights[1, 0] = 5\n",
        "ncce = partial(w_categorical_crossentropy, weights=bin_weights)\n",
        "ncce.__name__ ='w_categorical_crossentropy'"
      ],
      "execution_count": null,
      "outputs": []
    },
    {
      "cell_type": "code",
      "metadata": {
        "id": "3GHjU5Nl86IF",
        "colab_type": "code",
        "colab": {
          "base_uri": "https://localhost:8080/",
          "height": 51
        },
        "outputId": "757d093c-e002-4e42-c0fb-d90cd4f1e84f"
      },
      "source": [
        "model = resnet.ResnetBuilder.build_resnet_18((img_channels, img_rows, img_cols), nb_classes)\n",
        "model.compile(loss=ncce, optimizer='SGD',\n",
        "              metrics=['accuracy'])\n",
        "\n",
        "training_generator = AugmentedDataGenerator('train', ablation=5)\n",
        "validation_generator = AugmentedDataGenerator('val', ablation=5)\n",
        "\n",
        "model.fit_generator(generator=training_generator,\n",
        "                    validation_data=None,\n",
        "                    epochs=1)"
      ],
      "execution_count": null,
      "outputs": [
        {
          "output_type": "stream",
          "text": [
            "1/1 [==============================] - 0s 2ms/step - loss: 2.0453 - accuracy: 0.8710\n"
          ],
          "name": "stdout"
        },
        {
          "output_type": "execute_result",
          "data": {
            "text/plain": [
              "<tensorflow.python.keras.callbacks.History at 0x7fe2ead5e278>"
            ]
          },
          "metadata": {
            "tags": []
          },
          "execution_count": 22
        }
      ]
    },
    {
      "cell_type": "markdown",
      "metadata": {
        "id": "0U98MVCq86II",
        "colab_type": "text"
      },
      "source": [
        "## 4. Final Run"
      ]
    },
    {
      "cell_type": "markdown",
      "metadata": {
        "id": "WPMojFvo86IJ",
        "colab_type": "text"
      },
      "source": [
        "After deeply examining our data and building some preliminary models, we are finally ready to build a model that will perform our prediction task."
      ]
    },
    {
      "cell_type": "code",
      "metadata": {
        "id": "yMJW8H2m86IK",
        "colab_type": "code",
        "colab": {}
      },
      "source": [
        "class DecayLR(keras.callbacks.Callback):\n",
        "    def __init__(self, base_lr=0.01, decay_epoch=1):\n",
        "        super(DecayLR, self).__init__()\n",
        "        self.base_lr = base_lr\n",
        "        self.decay_epoch = decay_epoch \n",
        "        self.lr_history = []\n",
        "        \n",
        "    def on_train_begin(self, logs={}):\n",
        "        K.set_value(self.model.optimizer.lr, self.base_lr)\n",
        "\n",
        "    def on_epoch_end(self, epoch, logs={}):\n",
        "        new_lr = self.base_lr * (0.5 ** (epoch // self.decay_epoch))\n",
        "        self.lr_history.append(K.get_value(self.model.optimizer.lr))\n",
        "        K.set_value(self.model.optimizer.lr, new_lr)"
      ],
      "execution_count": null,
      "outputs": []
    },
    {
      "cell_type": "code",
      "metadata": {
        "id": "neKGLCk_86IP",
        "colab_type": "code",
        "colab": {
          "base_uri": "https://localhost:8080/",
          "height": 884
        },
        "outputId": "c95e10b7-52dd-41ba-d414-cdbc91047bb9"
      },
      "source": [
        "model = resnet.ResnetBuilder.build_resnet_18((img_channels, img_rows, img_cols), nb_classes)\n",
        "sgd = optimizers.SGD(lr=0.005)\n",
        "\n",
        "bin_weights = np.ones((2,2))\n",
        "bin_weights[1, 1] = 10\n",
        "bin_weights[1, 0] = 10\n",
        "ncce = partial(w_categorical_crossentropy, weights=bin_weights)\n",
        "ncce.__name__ ='w_categorical_crossentropy'\n",
        "\n",
        "model.compile(loss=ncce,optimizer= sgd,\n",
        "              metrics=['accuracy'])\n",
        "training_generator = AugmentedDataGenerator('train', ablation=50)\n",
        "validation_generator = AugmentedDataGenerator('val', ablation=50)\n",
        "\n",
        "auc_logger = roc_callback()\n",
        "filepath = 'models/best_model.hdf5'\n",
        "checkpoint = ModelCheckpoint(filepath, monitor='val_auc', verbose=1, save_best_only=True, mode='max')\n",
        "\n",
        "decay = DecayLR()\n",
        "\n",
        "model.fit_generator(generator=training_generator,\n",
        "                    validation_data=validation_generator,\n",
        "                    epochs=10, callbacks=[auc_logger, decay, checkpoint])"
      ],
      "execution_count": null,
      "outputs": [
        {
          "output_type": "stream",
          "text": [
            "Epoch 1/10\n",
            "13/13 [==============================] - ETA: 0s - loss: 2.2475 - accuracy: 0.3671 \n",
            "Val AUC for epoch0: 0.2385026737967914\n",
            "WARNING:tensorflow:Can save best model only with val_auc available, skipping.\n",
            "13/13 [==============================] - 213s 16s/step - loss: 2.2475 - accuracy: 0.3671 - val_loss: 3.1790 - val_accuracy: 0.8958\n",
            "Epoch 2/10\n",
            "13/13 [==============================] - ETA: 0s - loss: 2.1475 - accuracy: 0.6869 \n",
            "Val AUC for epoch1: 0.5151162790697674\n",
            "WARNING:tensorflow:Can save best model only with val_auc available, skipping.\n",
            "13/13 [==============================] - 182s 14s/step - loss: 2.1475 - accuracy: 0.6869 - val_loss: 4.5581 - val_accuracy: 0.1146\n",
            "Epoch 3/10\n",
            "13/13 [==============================] - ETA: 0s - loss: 2.0952 - accuracy: 0.6633 \n",
            "Val AUC for epoch2: 0.6107954545454546\n",
            "WARNING:tensorflow:Can save best model only with val_auc available, skipping.\n",
            "13/13 [==============================] - 179s 14s/step - loss: 2.0952 - accuracy: 0.6633 - val_loss: 3.8012 - val_accuracy: 0.1042\n",
            "Epoch 4/10\n",
            "13/13 [==============================] - ETA: 0s - loss: 2.0655 - accuracy: 0.6582 \n",
            "Val AUC for epoch3: 0.59375\n",
            "WARNING:tensorflow:Can save best model only with val_auc available, skipping.\n",
            "13/13 [==============================] - 186s 14s/step - loss: 2.0655 - accuracy: 0.6582 - val_loss: 3.0104 - val_accuracy: 0.0833\n",
            "Epoch 5/10\n",
            "13/13 [==============================] - ETA: 0s - loss: 2.0538 - accuracy: 0.7739 \n",
            "Val AUC for epoch4: 0.6860465116279071\n",
            "WARNING:tensorflow:Can save best model only with val_auc available, skipping.\n",
            "13/13 [==============================] - 180s 14s/step - loss: 2.0538 - accuracy: 0.7739 - val_loss: 2.6973 - val_accuracy: 0.0833\n",
            "Epoch 6/10\n",
            "13/13 [==============================] - ETA: 0s - loss: 2.0543 - accuracy: 0.7114 \n",
            "Val AUC for epoch5: 0.6581059390048154\n",
            "WARNING:tensorflow:Can save best model only with val_auc available, skipping.\n",
            "13/13 [==============================] - 180s 14s/step - loss: 2.0543 - accuracy: 0.7114 - val_loss: 2.4693 - val_accuracy: 0.1042\n",
            "Epoch 7/10\n",
            "13/13 [==============================] - ETA: 0s - loss: 2.0004 - accuracy: 0.7186 \n",
            "Val AUC for epoch6: 0.5925925925925926\n",
            "WARNING:tensorflow:Can save best model only with val_auc available, skipping.\n",
            "13/13 [==============================] - 185s 14s/step - loss: 2.0004 - accuracy: 0.7186 - val_loss: 2.2982 - val_accuracy: 0.1250\n",
            "Epoch 8/10\n",
            "13/13 [==============================] - ETA: 0s - loss: 2.0519 - accuracy: 0.7103 \n",
            "Val AUC for epoch7: 0.6730523627075351\n",
            "WARNING:tensorflow:Can save best model only with val_auc available, skipping.\n",
            "13/13 [==============================] - 181s 14s/step - loss: 2.0519 - accuracy: 0.7103 - val_loss: 2.3109 - val_accuracy: 0.1667\n",
            "Epoch 9/10\n",
            "13/13 [==============================] - ETA: 0s - loss: 2.0086 - accuracy: 0.7367 \n",
            "Val AUC for epoch8: 0.536046511627907\n",
            "WARNING:tensorflow:Can save best model only with val_auc available, skipping.\n",
            "13/13 [==============================] - 180s 14s/step - loss: 2.0086 - accuracy: 0.7367 - val_loss: 2.2261 - val_accuracy: 0.2083\n",
            "Epoch 10/10\n",
            "13/13 [==============================] - ETA: 0s - loss: 2.0301 - accuracy: 0.7316 \n",
            "Val AUC for epoch9: 0.4812834224598931\n",
            "WARNING:tensorflow:Can save best model only with val_auc available, skipping.\n",
            "13/13 [==============================] - 184s 14s/step - loss: 2.0301 - accuracy: 0.7316 - val_loss: 2.3099 - val_accuracy: 0.2188\n"
          ],
          "name": "stdout"
        },
        {
          "output_type": "execute_result",
          "data": {
            "text/plain": [
              "<tensorflow.python.keras.callbacks.History at 0x7fe2e9470240>"
            ]
          },
          "metadata": {
            "tags": []
          },
          "execution_count": 24
        }
      ]
    },
    {
      "cell_type": "markdown",
      "metadata": {
        "id": "cLU_rVcW86IT",
        "colab_type": "text"
      },
      "source": [
        "## 5. Making a Prediction"
      ]
    },
    {
      "cell_type": "code",
      "metadata": {
        "id": "CyLraTLl86IT",
        "colab_type": "code",
        "colab": {}
      },
      "source": [
        "val_model = resnet.ResnetBuilder.build_resnet_18((img_channels, img_rows, img_cols), nb_classes)\n",
        "#val_model.load_weights('models/best_model.hdf5')"
      ],
      "execution_count": null,
      "outputs": []
    },
    {
      "cell_type": "code",
      "metadata": {
        "id": "BOdkqL4e86IX",
        "colab_type": "code",
        "colab": {
          "base_uri": "https://localhost:8080/",
          "height": 286
        },
        "outputId": "815341d9-1ac7-412d-e482-7f807151bd15"
      },
      "source": [
        "effusion_path = os.path.join(DATASET_PATH, disease_cls[0], '*')\n",
        "effusion = glob.glob(effusion_path)\n",
        "effusion = io.imread(effusion[-8])\n",
        "plt.imshow(effusion,cmap='gray')"
      ],
      "execution_count": null,
      "outputs": [
        {
          "output_type": "execute_result",
          "data": {
            "text/plain": [
              "<matplotlib.image.AxesImage at 0x7fe2e7980e10>"
            ]
          },
          "metadata": {
            "tags": []
          },
          "execution_count": 27
        },
        {
          "output_type": "display_data",
          "data": {
            "image/png": "[encoded data removed]",
            "text/plain": [
              "<Figure size 432x288 with 1 Axes>"
            ]
          },
          "metadata": {
            "tags": [],
            "needs_background": "light"
          }
        }
      ]
    },
    {
      "cell_type": "code",
      "metadata": {
        "id": "yPQHfdvx86Ia",
        "colab_type": "code",
        "colab": {
          "base_uri": "https://localhost:8080/",
          "height": 34
        },
        "outputId": "aa85670e-a201-44a8-f277-e6226711b4e5"
      },
      "source": [
        "img = preprocess_img(effusion[:, :, np.newaxis], 'validation')\n",
        "val_model.predict(img[np.newaxis,:])"
      ],
      "execution_count": null,
      "outputs": [
        {
          "output_type": "execute_result",
          "data": {
            "text/plain": [
              "array([[0.22565468, 0.7743453 ]], dtype=float32)"
            ]
          },
          "metadata": {
            "tags": []
          },
          "execution_count": 28
        }
      ]
    },
    {
      "cell_type": "code",
      "metadata": {
        "id": "RzcdVmW086Id",
        "colab_type": "code",
        "colab": {}
      },
      "source": [
        ""
      ],
      "execution_count": null,
      "outputs": []
    }
  ]
}